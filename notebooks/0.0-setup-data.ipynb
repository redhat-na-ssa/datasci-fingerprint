{
 "cells": [
  {
   "attachments": {},
   "cell_type": "markdown",
   "id": "53bf1b9c-0994-41ea-be22-c887d5c6aedd",
   "metadata": {},
   "source": [
    "# Fingerprint Left or Right Hand Prediction\n",
    "\n",
    "## About the data\n",
    "Sokoto Coventry Fingerprint Dataset (SOCOFing) is a biometric fingerprint database designed for academic research purposes. \n",
    "\n",
    "SOCOFing is made up of 6,000 fingerprint images from 600 African subjects and contains unique attributes such as labels for gender, hand and finger name as well as synthetically altered versions with three different levels of alteration for obliteration, central rotation, and z-cut. For a complete formal description and usage policy please refer to the following paper: \n",
    "\n",
    "https://arxiv.org/abs/1807.10609\n"
   ]
  },
  {
   "attachments": {},
   "cell_type": "markdown",
   "id": "abfa098c-5402-4108-9a5d-4ea778fab9d7",
   "metadata": {},
   "source": [
    "# Setup"
   ]
  },
  {
   "cell_type": "code",
   "execution_count": null,
   "id": "50bdb2c3-198b-4c84-ac65-988a9a735749",
   "metadata": {},
   "outputs": [],
   "source": [
    "# if you didn't run setup.sh\n",
    "# source the setup bash script to run specific configuration tasks\n",
    "! cd ..; source ./setup.sh && setup_dataset && install_requirements"
   ]
  },
  {
   "cell_type": "code",
   "execution_count": null,
   "id": "edad1efc-dd91-43ce-b0a4-a90ef8eacdf9",
   "metadata": {},
   "outputs": [],
   "source": [
    "import os\n",
    "\n",
    "# scratch directory is apart of the .gitignore to ensure it is not committed to git\n",
    "%env SCRATCH=../scratch\n",
    "! [ -e \"${SCRATCH}\" ] || mkdir -p \"${SCRATCH}\"\n",
    "\n",
    "scratch_path = os.environ.get('SCRATCH', 'scratch')"
   ]
  },
  {
   "cell_type": "code",
   "execution_count": null,
   "id": "8ad3d2f3-404e-4a87-91e9-177b7219cfd9",
   "metadata": {},
   "outputs": [],
   "source": [
    "# VERIFY - is this needed, move to setup.sh\n",
    "# ! mkdir -p \"${SCRATCH}\"/{real,tune,train,tf_datasets,train_lr/{left,right}}"
   ]
  },
  {
   "attachments": {},
   "cell_type": "markdown",
   "id": "2d6ac1ab-8500-479c-9698-749f30386ebb",
   "metadata": {},
   "source": [
    "# Data Preparation"
   ]
  },
  {
   "attachments": {},
   "cell_type": "markdown",
   "id": "03d1facb-2360-4d42-9b1a-ab49d72b215d",
   "metadata": {},
   "source": [
    "## Decompress the data for training\n",
    "\n",
    "Let's check for an existing S3 Bucket for training data.\n",
    "If data is not in S3, we sync it..."
   ]
  },
  {
   "cell_type": "code",
   "execution_count": null,
   "id": "2d812792-42f8-4d22-adfc-4aca1e0d9fed",
   "metadata": {},
   "outputs": [],
   "source": [
    "# check for existing s3 bucket\n",
    "! echo S3_BUCKET_DATA=$(aws s3 ls 2>/dev/null | cut -c21- | grep sagemaker-fingerprint-data) > .env\n",
    "\n",
    "# kludge: loadenv from .env\n",
    "from dotenv import load_dotenv\n",
    "load_dotenv()\n",
    "\n",
    "# if exists, download the objects from s3\n",
    "! [ ! -z \"$S3_BUCKET_DATA\" ] && \\\n",
    "  aws s3 sync s3://${S3_BUCKET_DATA}/train/left $SCRATCH/train/left --quiet && \\\n",
    "  aws s3 sync s3://${S3_BUCKET_DATA}/train/right $SCRATCH/train/right --quiet && \\\n",
    "  aws s3 sync s3://${S3_BUCKET_DATA}/real $SCRATCH/real --quiet"
   ]
  }
 ],
 "metadata": {
  "kernelspec": {
   "display_name": "Python 3.9.16",
   "language": "python",
   "name": "python3"
  },
  "language_info": {
   "codemirror_mode": {
    "name": "ipython",
    "version": 3
   },
   "file_extension": ".py",
   "mimetype": "text/x-python",
   "name": "python",
   "nbconvert_exporter": "python",
   "pygments_lexer": "ipython3",
   "version": "3.11.4"
  }
 },
 "nbformat": 4,
 "nbformat_minor": 5
}
