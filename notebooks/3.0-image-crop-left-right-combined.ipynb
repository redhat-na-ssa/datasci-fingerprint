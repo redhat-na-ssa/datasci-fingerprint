{
 "cells": [
  {
   "cell_type": "markdown",
   "id": "cc8c750b-1325-4adf-88e8-88a35b023ad0",
   "metadata": {},
   "source": [
    "# Setup"
   ]
  },
  {
   "cell_type": "code",
   "execution_count": 2,
   "id": "507f3f6e-6924-45ad-ba89-8aa21dc985e8",
   "metadata": {},
   "outputs": [
    {
     "name": "stdout",
     "output_type": "stream",
     "text": [
      "env: SCRATCH=../scratch\n"
     ]
    }
   ],
   "source": [
    "import os\n",
    "\n",
    "# scratch directory is apart of the .gitignore to ensure it is not committed to git\n",
    "%env SCRATCH=../scratch\n",
    "! [ -e \"${SCRATCH}\" ] || mkdir -p \"${SCRATCH}\"\n",
    "\n",
    "scratch_path = os.environ.get('SCRATCH', './scratch')"
   ]
  },
  {
   "cell_type": "markdown",
   "id": "ced0353c-3590-4b8e-b2ec-3b181fab9e55",
   "metadata": {},
   "source": [
    "# Crop the border around the images\n",
    "\n",
    "This code will iterate over all the image files in the input directory with the extensions \".png\" or \".jpg\". It reads each image, performs numpy array slicing to obtain the desired portion of the image, and saves the altered image to the output directory with the same filename."
   ]
  },
  {
   "cell_type": "code",
   "execution_count": 3,
   "id": "f0e80974-023f-4ed1-8b15-b5ea8840ba7b",
   "metadata": {},
   "outputs": [],
   "source": [
    "import os\n",
    "import cv2\n",
    "import numpy as np\n",
    "\n",
    "# Set the paths for input directories and output directories\n",
    "input_directories = [scratch_path + \"/train/left\", scratch_path + \"/train/right\"]\n",
    "output_directories = [scratch_path + \"/train_lr/left\", scratch_path + \"/train_lr/right\"]\n",
    "\n",
    "# Create the output directories if they don't exist\n",
    "for directory in output_directories:\n",
    "    os.makedirs(directory, exist_ok=True)\n",
    "\n",
    "# Iterate through the input directories\n",
    "for input_directory, output_directory in zip(input_directories, output_directories):\n",
    "    # Iterate through the files in the input directory\n",
    "    for filename in os.listdir(input_directory):\n",
    "        if filename.endswith(\".png\") or filename.endswith(\".jpg\"):\n",
    "            input_path = os.path.join(input_directory, filename)\n",
    "            output_path = os.path.join(output_directory, filename)\n",
    "\n",
    "            # Read the input image\n",
    "            image = cv2.imread(input_path)\n",
    "\n",
    "            # Perform numpy array slicing on the image\n",
    "            fingerprint = image[5:99, 2:92]\n",
    "\n",
    "            # Write the altered image to the output directory\n",
    "            cv2.imwrite(output_path, fingerprint)"
   ]
  },
  {
   "cell_type": "code",
   "execution_count": null,
   "id": "9f732d63-58f4-44c9-9fb8-e8554e93aa88",
   "metadata": {},
   "outputs": [],
   "source": []
  }
 ],
 "metadata": {
  "kernelspec": {
   "display_name": "Python 3.9.16",
   "language": "python",
   "name": "python3"
  },
  "language_info": {
   "codemirror_mode": {
    "name": "ipython",
    "version": 3
   },
   "file_extension": ".py",
   "mimetype": "text/x-python",
   "name": "python",
   "nbconvert_exporter": "python",
   "pygments_lexer": "ipython3",
   "version": "3.9.16"
  }
 },
 "nbformat": 4,
 "nbformat_minor": 5
}
