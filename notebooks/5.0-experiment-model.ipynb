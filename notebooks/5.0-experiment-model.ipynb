{
 "cells": [
  {
   "attachments": {},
   "cell_type": "markdown",
   "id": "eb86f8e1-b38b-4d0c-92b5-257c657ce304",
   "metadata": {},
   "source": [
    "## Setup"
   ]
  },
  {
   "cell_type": "code",
   "execution_count": null,
   "id": "d0685747-4565-4cf5-ae05-ed5d7ea051da",
   "metadata": {},
   "outputs": [],
   "source": [
    "# Install packages and frameworks\n",
    "\n",
    "import tensorflow as tf\n",
    "import os\n",
    "import visualkeras\n",
    "import tensorflow as tf\n",
    "from tensorflow.keras.models import Sequential\n",
    "from tensorflow import keras\n",
    "from keras.utils import plot_model\n",
    "from keras.callbacks import CSVLogger\n",
    "\n",
    "# expecting 2.11\n",
    "# if 2.7, than logging errors will show \"Cleanup called...\"\n",
    "print(tf.__version__)"
   ]
  },
  {
   "cell_type": "code",
   "execution_count": null,
   "id": "8d5bee99-149d-4711-aa7b-9d4d473ca677",
   "metadata": {},
   "outputs": [],
   "source": [
    "# manually set a filename to store and compare reports\n",
    "os.environ['FILENAME'] = 'experiment'"
   ]
  },
  {
   "cell_type": "code",
   "execution_count": null,
   "id": "ba71e1f6-f29c-4c35-8a92-a60c8851fd21",
   "metadata": {},
   "outputs": [],
   "source": [
    "# scratch directory is apart of the .gitignore to ensure it is not committed to git\n",
    "%env SCRATCH=../scratch\n",
    "! [ -e \"${SCRATCH}\" ] || mkdir -p \"${SCRATCH}\"\n",
    "\n",
    "scratch_path = os.environ.get('SCRATCH', './scratch')"
   ]
  },
  {
   "attachments": {},
   "cell_type": "markdown",
   "id": "3edfc60d-2aec-4516-8cb7-8837441b8391",
   "metadata": {},
   "source": [
    "# Load the saved datasets\n",
    "\n",
    "The TFRecord format is a simple format for storing a sequence of binary records."
   ]
  },
  {
   "attachments": {},
   "cell_type": "markdown",
   "id": "09b36548-1911-471b-b899-4fef4ce79e41",
   "metadata": {},
   "source": [
    "## Load train"
   ]
  },
  {
   "cell_type": "code",
   "execution_count": null,
   "id": "f78a37af-782f-4473-8f69-e73c6cc02a15",
   "metadata": {},
   "outputs": [],
   "source": [
    "path = scratch_path + '/tf_datasets/train/'\n",
    "train_ds = tf.data.Dataset.load(path)\n",
    "train_ds.element_spec"
   ]
  },
  {
   "attachments": {},
   "cell_type": "markdown",
   "id": "52fa4bb5-7b2e-4b04-801f-c4f9f9d8d565",
   "metadata": {},
   "source": [
    "## Load validate"
   ]
  },
  {
   "cell_type": "code",
   "execution_count": null,
   "id": "2cedab0e-4fca-4006-8c1d-3228baa0cd45",
   "metadata": {},
   "outputs": [],
   "source": [
    "path = scratch_path + '/tf_datasets/validate/'\n",
    "validation_ds = tf.data.Dataset.load(path)\n",
    "validation_ds.element_spec"
   ]
  },
  {
   "attachments": {},
   "cell_type": "markdown",
   "id": "7c720750-8f09-4d46-ba9a-fa055776b466",
   "metadata": {},
   "source": [
    "## Load test"
   ]
  },
  {
   "cell_type": "code",
   "execution_count": null,
   "id": "16460065-67d2-455c-b03f-ef59b553d74b",
   "metadata": {},
   "outputs": [],
   "source": [
    "path = scratch_path + '/tf_datasets/test/'\n",
    "test_ds = tf.data.Dataset.load(path)\n",
    "test_ds.element_spec"
   ]
  },
  {
   "attachments": {},
   "cell_type": "markdown",
   "id": "95b7454a-3458-4213-9265-dd25d88f1466",
   "metadata": {},
   "source": [
    "## Configure the datasets for performance\n",
    "\n",
    "Let's make sure to use buffered prefetching so we can yield data from disk without having I/O become blocking. These are two important methods you should use when loading data.\n",
    "\n",
    "1. `Caching` a dataset, either in memory or on local storage. This will save some operations (like file opening and data reading) from being executed during each epoch.\n",
    "1. `Prefetching` overlaps the preprocessing and model execution of a training step. While the model is executing training step s, the input pipeline is reading the data for step s+1. Doing so reduces the step time to the maximum (as opposed to the sum) of the training and the time it takes to extract the data.\n",
    "\n",
    "[Optimising your input pipeline performance with tf.data (part 1)](https://towardsdatascience.com/optimising-your-input-pipeline-performance-with-tf-data-part-1-32e52a30cac4)"
   ]
  },
  {
   "cell_type": "code",
   "execution_count": null,
   "id": "4d442d41-0c11-4726-955b-fa72d3e5ac33",
   "metadata": {},
   "outputs": [],
   "source": [
    "AUTOTUNE = tf.data.experimental.AUTOTUNE\n",
    "\n",
    "train_ds = train_ds.cache().prefetch(buffer_size=AUTOTUNE)\n",
    "validation_ds = validation_ds.cache().prefetch(buffer_size=AUTOTUNE)\n",
    "test_ds = validation_ds.cache().prefetch(buffer_size=AUTOTUNE)"
   ]
  },
  {
   "attachments": {},
   "cell_type": "markdown",
   "id": "c8da87c9-0c6b-49af-ae0e-c0f3b98515a0",
   "metadata": {},
   "source": [
    "# Check the device spec"
   ]
  },
  {
   "cell_type": "code",
   "execution_count": null,
   "id": "6c2bee89-fe70-4b71-ac4e-c95c47bd7661",
   "metadata": {},
   "outputs": [],
   "source": [
    "# display physical devices\n",
    "tf.config.list_physical_devices()"
   ]
  },
  {
   "attachments": {},
   "cell_type": "markdown",
   "id": "232d3709-db26-4a83-ac98-a36013a86e76",
   "metadata": {},
   "source": [
    "# Create the model"
   ]
  },
  {
   "attachments": {},
   "cell_type": "markdown",
   "id": "2f32f43e-eb02-4411-b593-99e860cdd4e0",
   "metadata": {
    "jp-MarkdownHeadingCollapsed": true,
    "tags": []
   },
   "source": [
    "tf.keras models are optimized to make predictions on a batch, or collection, of examples at once. Accordingly, even though you're using a single image, you need to add it to a list:\n",
    "\n",
    "## Setup the layers\n",
    "\n",
    "The Sequential model consists of three convolution blocks (tf.keras.layers.Conv2D) with a max pooling layer (tf.keras.layers.MaxPooling2D) in each of them. There's a fully-connected layer (tf.keras.layers.Dense) with 128 units on top of it that is activated by a ReLU activation function ('relu'). This model has not been tuned in any way—the goal is to show you the mechanics using the datasets you just created. To learn more about image classification, visit the Image classification tutorial.\n",
    "\n",
    "Here's an example of Python code using Keras to create a sequential classification model that accepts 96x96x1 input images.\n",
    "\n",
    "In this example, we start with three convolutional layers, each followed by a max pooling layer to downsample the input. Then, we flatten the output from the convolutional layers and add two fully connected layers. Finally, we add an output layer with the number of classes and compile the model using an optimizer (e.g., Adam) and a loss function (e.g., categorical cross-entropy).\n",
    "\n",
    "```\n",
    "import tensorflow as tf    \n",
    "\n",
    "model = tf.keras.Model(...)\n",
    "\n",
    "# Run training on GPU\n",
    "with tf.device('/gpu:0'):\n",
    "    model.fit(...)\n",
    "\n",
    "# Run inference on CPU\n",
    "with tf.device('/cpu:0'):\n",
    "    model.predict(...)\n",
    "    \n",
    "```"
   ]
  },
  {
   "attachments": {},
   "cell_type": "markdown",
   "id": "443bfbbf-3f3f-45a2-9586-85bf8d04657d",
   "metadata": {},
   "source": [
    "## Set some variables"
   ]
  },
  {
   "cell_type": "code",
   "execution_count": null,
   "id": "d699ebcd-4965-416a-93a6-654e49fd0d82",
   "metadata": {},
   "outputs": [],
   "source": [
    "# set variables for consistency\n",
    "img_height = 96              # desired height\n",
    "img_width = 96               # desired width\n",
    "batch_size = 32              # batch inputs in 32\n",
    "seed_train_validation = 42   # Must be same for train_ds and val_ds\n",
    "validation_split = 0.3       # move 30% of the data into validation\n",
    "class_names = ['left', 'right']\n",
    "\n",
    "dataFormat=\"channels_last\"\n",
    "num_classes = len(class_names)\n",
    "inputShape=(img_height, img_width, 1)\n",
    "chanDim = -1"
   ]
  },
  {
   "attachments": {},
   "cell_type": "markdown",
   "id": "122651a9-8379-408c-9bae-1d018f0b496d",
   "metadata": {},
   "source": [
    "## Set up the layers\n",
    "The basic building block of a neural network is the layer. Layers extract representations from the data fed into them. Hopefully, these representations are meaningful for the problem at hand.\n",
    "\n",
    "Most of deep learning consists of chaining together simple layers. Most layers, such as tf.keras.layers.Dense, have parameters that are learned during training.\n"
   ]
  },
  {
   "cell_type": "code",
   "execution_count": null,
   "id": "83987a03-fc0c-4b10-851e-73075993f85a",
   "metadata": {},
   "outputs": [],
   "source": [
    "model = tf.keras.Sequential([\n",
    "    tf.keras.layers.InputLayer(input_shape=inputShape),\n",
    "    tf.keras.layers.Reshape(target_shape=inputShape),\n",
    "\n",
    "    # layer 1\n",
    "    tf.keras.layers.Conv2D(96, 3, activation='relu'),\n",
    "    tf.keras.layers.MaxPooling2D(pool_size=(2, 2)),\n",
    "\n",
    "    # layer 2\n",
    "    tf.keras.layers.Conv2D(96, 3, activation='relu'),\n",
    "    tf.keras.layers.MaxPooling2D(pool_size=(2, 2)),\n",
    "\n",
    "    # layer 3\n",
    "    tf.keras.layers.Conv2D(96, 3, activation='relu'),\n",
    "    tf.keras.layers.MaxPooling2D(pool_size=(2, 2)),\n",
    "\n",
    "    # layer 4\n",
    "    #tf.keras.layers.Conv2D(96, 3, activation='relu'),\n",
    "    #tf.keras.layers.MaxPooling2D(pool_size=(2, 2)),\n",
    "\n",
    "    # layer 5\n",
    "    #tf.keras.layers.Conv2D(96, 3, activation='relu'),\n",
    "    #tf.keras.layers.MaxPooling2D(pool_size=(2, 2)),\n",
    "\n",
    "    tf.keras.layers.Flatten(),\n",
    "    tf.keras.layers.Dense(256, activation='relu'),\n",
    "    tf.keras.layers.Dense(num_classes),\n",
    "    tf.keras.layers.Softmax()\n",
    "])"
   ]
  },
  {
   "attachments": {},
   "cell_type": "markdown",
   "id": "bc19a77c-2cee-49e4-9da7-3841f2b320ec",
   "metadata": {},
   "source": [
    "## Compile the model\n",
    "\n",
    "Before the model is ready for training, it needs a few more settings. These are added during the model's compile step:\n",
    "\n",
    "Loss function —This measures how accurate the model is during training. You want to minimize this function to \"steer\" the model in the right direction.\n",
    "Optimizer —This is how the model is updated based on the data it sees and its loss function.\n",
    "Metrics —Used to monitor the training and testing steps. The following example uses accuracy, the fraction of the images that are correctly classified."
   ]
  },
  {
   "cell_type": "code",
   "execution_count": null,
   "id": "1014e4fe-53ad-4771-9412-eb7e5b53f86f",
   "metadata": {},
   "outputs": [],
   "source": [
    "model.compile(optimizer='adam',\n",
    "            loss=tf.keras.losses.CategoricalCrossentropy(\n",
    "                from_logits=False,\n",
    "                label_smoothing=0.0,\n",
    "                axis=-1,\n",
    "                #reduction=losses_utils.ReductionV2.AUTO,\n",
    "                name='categorical_crossentropy'),\n",
    "            metrics=['accuracy'])"
   ]
  },
  {
   "cell_type": "code",
   "execution_count": null,
   "id": "94049848-d5f4-48d3-9a67-70775c3734e1",
   "metadata": {},
   "outputs": [],
   "source": [
    "model.summary()"
   ]
  },
  {
   "attachments": {},
   "cell_type": "markdown",
   "id": "7397fb89-0459-4003-9760-3a0ad92e5f3b",
   "metadata": {},
   "source": [
    "### Visualize the model architecture"
   ]
  },
  {
   "cell_type": "code",
   "execution_count": null,
   "id": "8fa94d55-5623-427c-857d-90eda9832123",
   "metadata": {},
   "outputs": [],
   "source": [
    "# Plot the resulting model architecture: https://www.tensorflow.org/api_docs/python/tf/keras/utils/plot_model\n",
    "filename = os.getenv('FILENAME')\n",
    "\n",
    "to_file = scratch_path + '/reports/' + filename + '-model_plot.png'\n",
    "tf.keras.utils.plot_model(model, show_shapes=True,to_file=to_file)"
   ]
  },
  {
   "cell_type": "code",
   "execution_count": null,
   "id": "5efe82d8-dbc0-46fd-8062-69dd35a4c432",
   "metadata": {},
   "outputs": [],
   "source": [
    "# Visualize the model\n",
    "to_file = scratch_path + '/reports/' + filename + '-model_visual.png'\n",
    "visualkeras.layered_view(model, legend=True, draw_volume=True, to_file=to_file)"
   ]
  },
  {
   "attachments": {},
   "cell_type": "markdown",
   "id": "6b5ee8cf-58e1-46aa-95ba-82d89736d9ea",
   "metadata": {},
   "source": [
    "# Train the model\n",
    "Training the neural network model requires the following steps:\n",
    "\n",
    "Feed the training data to the model. In this example, the training data is in the train_images and train_labels arrays.\n",
    "The model learns to associate images and labels.\n",
    "You ask the model to make predictions about a test set—in this example, the test_images array.\n",
    "Verify that the predictions match the labels from the test_labels array."
   ]
  },
  {
   "cell_type": "code",
   "execution_count": null,
   "id": "6f24a68a-4ac5-47fe-a429-4852569d80b9",
   "metadata": {},
   "outputs": [],
   "source": [
    "filename = scratch_path + '/reports/' + filename + '-score.csv'\n",
    "csv_logger = CSVLogger(filename, append=True, separator=';')\n",
    "model.fit(train_ds, epochs=10, validation_data=validation_ds, callbacks=[csv_logger])"
   ]
  },
  {
   "attachments": {},
   "cell_type": "markdown",
   "id": "f6b6b0f0-9baf-4611-be69-3d63c41cb83c",
   "metadata": {},
   "source": [
    "# Evaluate the model\n",
    "\n",
    "Next, compare how the model performs on the test dataset:"
   ]
  },
  {
   "cell_type": "code",
   "execution_count": null,
   "id": "9f34ff61-92d4-4f93-9df6-a9750100b5bf",
   "metadata": {},
   "outputs": [],
   "source": [
    "test_loss, test_acc = model.evaluate(test_ds, verbose=2)"
   ]
  },
  {
   "attachments": {},
   "cell_type": "markdown",
   "id": "e46843f6-1787-4a36-9d08-fbbec3e39d0c",
   "metadata": {},
   "source": [
    "# Score the model"
   ]
  },
  {
   "cell_type": "code",
   "execution_count": null,
   "id": "50f1ab9f-9abc-4770-993e-ade624368f19",
   "metadata": {},
   "outputs": [],
   "source": [
    "# Generate generalization metrics\n",
    "score = model.evaluate(test_ds, verbose=0)\n",
    "print(f'Test loss: {score[0]} / Test accuracy: {score[1]}')"
   ]
  }
 ],
 "metadata": {
  "kernelspec": {
   "display_name": "Python 3.9.16",
   "language": "python",
   "name": "python3"
  },
  "language_info": {
   "codemirror_mode": {
    "name": "ipython",
    "version": 3
   },
   "file_extension": ".py",
   "mimetype": "text/x-python",
   "name": "python",
   "nbconvert_exporter": "python",
   "pygments_lexer": "ipython3",
   "version": "3.11.4"
  }
 },
 "nbformat": 4,
 "nbformat_minor": 5
}
