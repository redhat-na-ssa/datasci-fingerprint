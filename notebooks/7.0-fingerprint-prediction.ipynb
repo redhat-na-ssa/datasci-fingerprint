{
 "cells": [
  {
   "attachments": {},
   "cell_type": "markdown",
   "id": "8d3a3edc-cec9-4827-ba34-cfe1f3beed06",
   "metadata": {},
   "source": [
    "# Make a prediction"
   ]
  },
  {
   "cell_type": "code",
   "execution_count": null,
   "id": "28630dce-a927-4d99-bb58-6c91bd1e6701",
   "metadata": {},
   "outputs": [],
   "source": [
    "## Setup"
   ]
  },
  {
   "cell_type": "code",
   "execution_count": null,
   "id": "c6d6311a-d963-4342-92b5-61e0b6f4c7d2",
   "metadata": {},
   "outputs": [],
   "source": [
    "import keras\n",
    "import os\n",
    "import tensorflow as tf\n",
    "import matplotlib.pyplot as plt\n",
    "import cv2\n",
    "import numpy as np\n",
    "# scratch directory is apart of the .gitignore to ensure it is not committed to git\n",
    "%env SCRATCH=../scratch\n",
    "! [ -e \"${SCRATCH}\" ] || mkdir -p \"${SCRATCH}\"\n",
    "\n",
    "scratch_path = os.environ.get('SCRATCH', './scratch')"
   ]
  },
  {
   "attachments": {},
   "cell_type": "markdown",
   "id": "7e246368-d03c-4fa7-b61e-a71e5677d3be",
   "metadata": {},
   "source": [
    "## Crop the border on the real images"
   ]
  },
  {
   "cell_type": "code",
   "execution_count": null,
   "id": "e88023e6-762b-4453-b642-9b688837781f",
   "metadata": {},
   "outputs": [],
   "source": [
    "# Set the paths for input directories and output directories\n",
    "input_directories = [scratch_path + \"/real/\"]\n",
    "output_directories = [scratch_path + \"/processed\", scratch_path + \"/processed\"]\n",
    "\n",
    "# Create the output directories if they don't exist\n",
    "for directory in output_directories:\n",
    "    os.makedirs(directory, exist_ok=True)\n",
    "\n",
    "# Iterate through the input directories\n",
    "for input_directory, output_directory in zip(input_directories, output_directories):\n",
    "    # Iterate through the files in the input directory\n",
    "    for filename in os.listdir(input_directory):\n",
    "        if filename.endswith(\".png\") or filename.endswith(\".jpg\"):\n",
    "            input_path = os.path.join(input_directory, filename)\n",
    "            output_path = os.path.join(output_directory, filename)\n",
    "\n",
    "            # Read the input image\n",
    "            image = cv2.imread(input_path)\n",
    "\n",
    "            # Perform numpy array slicing on the image\n",
    "            fingerprint = image[5:99, 2:92]\n",
    "\n",
    "            # Write the altered image to the output directory\n",
    "            cv2.imwrite(output_path, fingerprint)"
   ]
  },
  {
   "attachments": {},
   "cell_type": "markdown",
   "id": "50296405-bfb6-4360-883f-cf5863d5bee8",
   "metadata": {},
   "source": [
    "## Load a new processed fingerprint"
   ]
  },
  {
   "cell_type": "code",
   "execution_count": null,
   "id": "a654ff7b-2e82-4571-b952-6d506c6e5af7",
   "metadata": {},
   "outputs": [],
   "source": [
    "# set variables for consistency\n",
    "img_height = 96              # desired height\n",
    "img_width = 96               # desired width\n",
    "batch_size = 32              # batch inputs in 32\n",
    "seed_train_validation = 42   # Must be same for train_ds and val_ds\n",
    "validation_split = 0.3       # move 30% of the data into validation\n",
    "class_names=['left','right']"
   ]
  },
  {
   "cell_type": "code",
   "execution_count": null,
   "id": "e9ec788b-277b-4bdb-8be9-88963f41235c",
   "metadata": {},
   "outputs": [],
   "source": [
    "# select random images\n",
    "import random\n",
    "\n",
    "samples_path = scratch_path + '/processed/'\n",
    "file_list = os.listdir(samples_path)\n",
    "print('Files in path: ' + str(len(file_list)))\n",
    "\n",
    "test_image = random.choice(file_list)\n",
    "print('Selected: ' + test_image)\n",
    "\n",
    "# loads an image into PIL format.\n",
    "img = tf.keras.utils.load_img(\n",
    "    samples_path + test_image,\n",
    "    color_mode=\"grayscale\",\n",
    "    target_size=(img_height, img_width),\n",
    "    interpolation='nearest',\n",
    ")\n",
    "\n",
    "plt.imshow(img, cmap='gray')\n",
    "\n",
    "# converts a PIL image instance to a numpy array\n",
    "img_array = tf.keras.utils.img_to_array(img)\n",
    "print(\"shape:\",img_array.shape)\n",
    "print(\"shape:\",img_array.dtype)\n",
    "print(\"shape:\",img_array.size)\n",
    "\n",
    "img_array = tf.expand_dims(img_array, 0)"
   ]
  },
  {
   "attachments": {},
   "cell_type": "markdown",
   "id": "98d0df5f-38b3-4fcf-a987-3556a34e54c4",
   "metadata": {},
   "source": [
    "## Load the trained model"
   ]
  },
  {
   "cell_type": "code",
   "execution_count": null,
   "id": "10422991-f74d-497d-bf66-ead22b618b8e",
   "metadata": {},
   "outputs": [],
   "source": [
    "model = keras.models.load_model(scratch_path + '/models/fingerprint/1/model.savedmodel/')"
   ]
  },
  {
   "attachments": {},
   "cell_type": "markdown",
   "id": "0327af8c-d5a9-4071-8f12-9014d5a907fc",
   "metadata": {},
   "source": [
    "## Make a prediction"
   ]
  },
  {
   "cell_type": "code",
   "execution_count": null,
   "id": "ad7f2adc-49ad-46db-87a2-868d132c722a",
   "metadata": {},
   "outputs": [],
   "source": [
    "# perform a prediction on the new fingerprint\n",
    "predictions = model.predict(img_array)"
   ]
  },
  {
   "cell_type": "code",
   "execution_count": null,
   "id": "539e2c66-cf8c-4954-acd3-4a29faa09a4f",
   "metadata": {},
   "outputs": [],
   "source": [
    "score = tf.nn.softmax(predictions[0])\n",
    "\n",
    "print(\n",
    "    \"This image most likely belongs to {} hand with a {:.2f} percent confidence.\"\n",
    "    .format(class_names[np.argmax(score)], 100 * np.max(score))\n",
    ")"
   ]
  },
  {
   "cell_type": "code",
   "execution_count": null,
   "id": "9d631f45-cb04-4ecb-86a5-b21e9f297e16",
   "metadata": {},
   "outputs": [],
   "source": []
  }
 ],
 "metadata": {
  "kernelspec": {
   "display_name": "Python 3.9.16",
   "language": "python",
   "name": "python3"
  },
  "language_info": {
   "codemirror_mode": {
    "name": "ipython",
    "version": 3
   },
   "file_extension": ".py",
   "mimetype": "text/x-python",
   "name": "python",
   "nbconvert_exporter": "python",
   "pygments_lexer": "ipython3",
   "version": "3.9.16"
  }
 },
 "nbformat": 4,
 "nbformat_minor": 5
}
