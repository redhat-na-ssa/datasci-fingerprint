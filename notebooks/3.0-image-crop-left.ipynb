{
 "cells": [
  {
   "cell_type": "markdown",
   "id": "cc8c750b-1325-4adf-88e8-88a35b023ad0",
   "metadata": {},
   "source": [
    "# Setup"
   ]
  },
  {
   "cell_type": "code",
   "execution_count": 1,
   "id": "507f3f6e-6924-45ad-ba89-8aa21dc985e8",
   "metadata": {},
   "outputs": [
    {
     "name": "stdout",
     "output_type": "stream",
     "text": [
      "env: SCRATCH=../scratch\n"
     ]
    }
   ],
   "source": [
    "import os\n",
    "\n",
    "# scratch directory is apart of the .gitignore to ensure it is not committed to git\n",
    "%env SCRATCH=../scratch\n",
    "! [ -e \"${SCRATCH}\" ] || mkdir -p \"${SCRATCH}\"\n",
    "\n",
    "scratch_path = os.environ.get('SCRATCH', './scratch')"
   ]
  },
  {
   "cell_type": "markdown",
   "id": "2e244d11-a91b-461f-8583-0b0a6b30d37f",
   "metadata": {},
   "source": [
    "# Crop the left images into new train_lr/left dir\n",
    "\n",
    "This code will iterate over all the image files in the input directory with the extensions \".png\" or \".jpg\". It reads each image, performs numpy array slicing to obtain the desired portion of the image, and saves the altered image to the output directory with the same filename.# Crop the left images"
   ]
  },
  {
   "cell_type": "code",
   "execution_count": 2,
   "id": "389493f7-0413-49ce-ba11-5637cfa6ad51",
   "metadata": {},
   "outputs": [],
   "source": [
    "import os\n",
    "import cv2\n",
    "import numpy as np\n",
    "\n",
    "# Set the paths for input directory and output directory\n",
    "input_directory = scratch_path + \"/train/left\"\n",
    "output_directory = scratch_path + \"/train_lr/left\"\n",
    "\n",
    "# Create the output directory if it doesn't exist\n",
    "os.makedirs(output_directory, exist_ok=True)\n",
    "\n",
    "# Iterate through the files in the input directory\n",
    "for filename in os.listdir(input_directory):\n",
    "    if filename.endswith(\".png\") or filename.endswith(\".jpg\"):\n",
    "        input_path = os.path.join(input_directory, filename)\n",
    "        output_path = os.path.join(output_directory, filename)\n",
    "        \n",
    "        # Read the input image\n",
    "        image = cv2.imread(input_path)\n",
    "        \n",
    "        # Perform numpy array slicing on the image\n",
    "        fingerprint = image[5:99, 2:92]\n",
    "        \n",
    "        # Write the altered image to the output directory\n",
    "        cv2.imwrite(output_path, fingerprint)"
   ]
  },
  {
   "cell_type": "code",
   "execution_count": null,
   "id": "3a80b951-a0e2-4cc9-bfd2-6416faccca8b",
   "metadata": {},
   "outputs": [],
   "source": []
  }
 ],
 "metadata": {
  "kernelspec": {
   "display_name": "Python 3.9.16",
   "language": "python",
   "name": "python3"
  },
  "language_info": {
   "codemirror_mode": {
    "name": "ipython",
    "version": 3
   },
   "file_extension": ".py",
   "mimetype": "text/x-python",
   "name": "python",
   "nbconvert_exporter": "python",
   "pygments_lexer": "ipython3",
   "version": "3.9.16"
  }
 },
 "nbformat": 4,
 "nbformat_minor": 5
}
