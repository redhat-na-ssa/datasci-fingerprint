{
 "cells": [
  {
   "cell_type": "markdown",
   "id": "f0600349-94d2-48d0-b173-1f662031d9b3",
   "metadata": {},
   "source": [
    "# Part II: Data Preprocessing\n",
    "\n",
    "From our data explorataion we know we need to make the following changes and codifying them will ensure they are consistent.\n",
    "\n",
    "1. rescale the images to be the same size\n",
    "1. crop the border from around the image\n",
    "1. change the image to ensure it's grayscale and not RGB\n",
    "1. create pipeline tasks that can be reused for data ingestion and against batch offline data"
   ]
  },
  {
   "cell_type": "markdown",
   "id": "7dc12709-1574-4a02-82ff-c5f5079225da",
   "metadata": {},
   "source": [
    "# Setup"
   ]
  },
  {
   "cell_type": "code",
   "execution_count": null,
   "id": "874024fc-8bde-439a-ae49-4995552b64f4",
   "metadata": {
    "tags": []
   },
   "outputs": [],
   "source": [
    "import os\n",
    "import cv2\n",
    "import numpy as np\n",
    "import matplotlib.pyplot as plt\n",
    "\n",
    "from IPython.display import clear_output"
   ]
  },
  {
   "cell_type": "code",
   "execution_count": null,
   "id": "75b6267f-1cca-480f-9672-d386262a6b4f",
   "metadata": {
    "tags": []
   },
   "outputs": [],
   "source": [
    "# scratch directory is apart of the .gitignore to ensure it is not committed to git\n",
    "%env SCRATCH=../scratch\n",
    "! [ -e \"${SCRATCH}\" ] || mkdir -p \"${SCRATCH}\"\n",
    "\n",
    "scratch_path = os.environ.get('SCRATCH', './scratch')"
   ]
  },
  {
   "cell_type": "markdown",
   "id": "bb45738d-708b-4b1a-ba90-4deb9ac69aa2",
   "metadata": {},
   "source": [
    "# Transform the images\n",
    "\n",
    "It is a best practice not to save over the raw data you have, so we will write these changes to a new directory:\n",
    "1. resize all the images to 96, 96\n",
    "1. crop the border\n",
    "1. convert to grayscale\n",
    "1. because the images will be smaller and we want to maintain the 96x96 input, resize them back"
   ]
  },
  {
   "cell_type": "markdown",
   "id": "dc69e793-b2d8-42c5-9524-fb32176c0616",
   "metadata": {},
   "source": [
    "## Define the processing function\n",
    "\n",
    "The writefile magic command demonstrates how you can save a python function and call it in a notebook with the %run magic command."
   ]
  },
  {
   "cell_type": "code",
   "execution_count": null,
   "id": "092ffd9c-6ff6-4724-b15e-2f6d620884b2",
   "metadata": {
    "tags": []
   },
   "outputs": [],
   "source": [
    "%%writefile ../src/process_images.py\n",
    "\n",
    "import os\n",
    "import cv2\n",
    "\n",
    "CROP_TOP = 10\n",
    "CROP_BOT = 96-15\n",
    "CROP_L = 5\n",
    "CROP_R = 96-6\n",
    "\n",
    "def process_images_in_directory(input_directory, output_directory):\n",
    "    # Create the output directory if it doesn't exist\n",
    "    os.makedirs(output_directory, exist_ok=True)\n",
    "\n",
    "    for filename in os.listdir(input_directory):\n",
    "        file_path = os.path.join(input_directory, filename)\n",
    "\n",
    "        if os.path.isdir(file_path):\n",
    "            # If it's a subdirectory, recursively process its contents\n",
    "            subdirectory_output = os.path.join(output_directory, filename)\n",
    "            process_images_in_directory(file_path, subdirectory_output)\n",
    "        elif filename.endswith(\".png\"):  # You can adjust the file extension as needed\n",
    "            # Read the image using OpenCV\n",
    "            image = cv2.imread(file_path)\n",
    "\n",
    "            if image is not None:\n",
    "                # Resize the image to 96x96\n",
    "                resized_image = cv2.resize(image, (96, 96))\n",
    "\n",
    "                # Crop the image to [5:95, 5:91]\n",
    "                cropped_image = resized_image[CROP_TOP:CROP_BOT, CROP_L:CROP_R]\n",
    "                \n",
    "                # Convert the images to grayscale\n",
    "                grayscale_image = cv2.cvtColor(cropped_image, cv2.COLOR_BGR2GRAY)\n",
    "                \n",
    "                # Save the cropped and resized image to the output directory\n",
    "                output_path = os.path.join(output_directory, filename)\n",
    "                cv2.imwrite(output_path, grayscale_image)\n",
    "\n",
    "                print(f\"Processed and saved {filename} to {output_path}\")\n",
    "            else:\n",
    "                print(f\"Skipping {filename}: Unable to read the image\")\n",
    "\n",
    "# Example usage:\n",
    "# Replace \"input_root_directory\" and \"output_root_directory\" with your root input and output directory paths\n",
    "# process_images_in_directory(\"input_root_directory\", \"output_root_directory\")"
   ]
  },
  {
   "cell_type": "markdown",
   "id": "86ffa1f7-bb35-4da9-87c2-952ee447136a",
   "metadata": {},
   "source": [
    "## Load the function in the notebook"
   ]
  },
  {
   "cell_type": "code",
   "execution_count": null,
   "id": "1f57e3cd-7978-4c71-8e7f-6c723916ee44",
   "metadata": {
    "tags": []
   },
   "outputs": [],
   "source": [
    "%run ../src/process_images.py"
   ]
  },
  {
   "cell_type": "markdown",
   "id": "1c36421c-82fe-4d39-bf9f-91f9bbda6966",
   "metadata": {},
   "source": [
    "## Set the input and output directory to process the training data"
   ]
  },
  {
   "cell_type": "code",
   "execution_count": null,
   "id": "af65e0d5-e6e2-4628-b9ee-954e04338117",
   "metadata": {},
   "outputs": [],
   "source": [
    "input_directory = scratch_path + \"/train\"  \n",
    "output_directory = scratch_path + \"/processed/hand\" "
   ]
  },
  {
   "cell_type": "code",
   "execution_count": null,
   "id": "37c396dc-aad3-460b-b0c6-bc2dfb7fab7e",
   "metadata": {
    "tags": []
   },
   "outputs": [],
   "source": [
    "process_images_in_directory(input_directory, output_directory)\n",
    "\n",
    "clear_output()"
   ]
  },
  {
   "cell_type": "markdown",
   "id": "ac29b114-6444-4d90-8b08-ac114869621b",
   "metadata": {},
   "source": [
    "## Set the input and output directory to process the real data"
   ]
  },
  {
   "cell_type": "code",
   "execution_count": null,
   "id": "e334e726-0210-4bb1-8e6c-5b53669b7348",
   "metadata": {
    "tags": []
   },
   "outputs": [],
   "source": [
    "input_directory = scratch_path + \"/real\"  \n",
    "output_directory = scratch_path + \"/processed/real\"  "
   ]
  },
  {
   "cell_type": "code",
   "execution_count": null,
   "id": "8c70af28-2fde-436e-b1cd-a0d7103fb7a9",
   "metadata": {
    "tags": []
   },
   "outputs": [],
   "source": [
    "process_images_in_directory(input_directory, output_directory)\n",
    "\n",
    "clear_output()"
   ]
  },
  {
   "cell_type": "markdown",
   "id": "da5105d6-d219-4fc6-b982-9695076f0f14",
   "metadata": {},
   "source": [
    "## Cleanup unused data from memory\n",
    "\n",
    "This code checks if the directories real and train exist within the scratch_path before attempting to remove them. If they exist, it performs the removal using shutil.rmtree(). This helps avoid errors that might occur if trying to remove non-existent directories."
   ]
  },
  {
   "cell_type": "code",
   "execution_count": null,
   "id": "bad63a4d-0ef7-4087-bac2-f740618ee215",
   "metadata": {
    "tags": []
   },
   "outputs": [],
   "source": [
    "import shutil\n",
    "\n",
    "if os.path.exists(scratch_path + \"/real\"):\n",
    "    shutil.rmtree(scratch_path + \"/real\")\n",
    "if os.path.exists(scratch_path + \"/train\"):\n",
    "    shutil.rmtree(scratch_path + \"/train\")"
   ]
  },
  {
   "cell_type": "markdown",
   "id": "da5297e9-18c3-4e4b-9a31-4ce34dc11abb",
   "metadata": {},
   "source": [
    "# Upload the processed data to S3"
   ]
  },
  {
   "cell_type": "code",
   "execution_count": null,
   "id": "9748ee3a-afdf-4d4b-8f3e-2b86d3545841",
   "metadata": {
    "tags": []
   },
   "outputs": [],
   "source": [
    "# list objects using the aws s3 cli\n",
    "! aws s3 ls"
   ]
  },
  {
   "cell_type": "markdown",
   "id": "7bb1ecb2-afdd-4a6b-bccf-0fdda8014f0b",
   "metadata": {},
   "source": [
    "## List the dynamically created bucket for the demo"
   ]
  },
  {
   "cell_type": "code",
   "execution_count": null,
   "id": "fe29415f-d2a7-4286-99c5-5be3a9a1dc4f",
   "metadata": {
    "tags": []
   },
   "outputs": [],
   "source": [
    "import boto3\n",
    "\n",
    "s3_client = boto3.client('s3')\n",
    "response = s3_client.list_buckets()\n",
    "\n",
    "filtered_buckets=[]\n",
    "\n",
    "for bucket in response['Buckets']:\n",
    "    bucket_name = bucket['Name']\n",
    "    if bucket_name.startswith('sagemaker-fingerprint-'):\n",
    "        filtered_buckets.append(bucket_name)\n",
    "    \n",
    "print(filtered_buckets)"
   ]
  },
  {
   "cell_type": "markdown",
   "id": "55a86445-bdfb-4ccd-8bd1-297e1d87dc43",
   "metadata": {},
   "source": [
    "## Upload the model to the demo bucket\n",
    "\n",
    "If you want to interact with S3 and upload the data to the buckets, you can change the following cell from Raw to Code and execute."
   ]
  },
  {
   "cell_type": "raw",
   "id": "781a3f76-c015-46ae-bb0c-b0f369b30566",
   "metadata": {
    "tags": []
   },
   "source": [
    "import subprocess\n",
    "\n",
    "for bucket in filtered_buckets:\n",
    "    command = f\"aws s3 sync ../scratch/processed/ s3://{bucket}/processed_data/\"\n",
    "    subprocess.run(command, shell=True)\n",
    "    \n",
    "clear_output()"
   ]
  }
 ],
 "metadata": {
  "kernelspec": {
   "display_name": "conda_python3",
   "language": "python",
   "name": "conda_python3"
  },
  "language_info": {
   "codemirror_mode": {
    "name": "ipython",
    "version": 3
   },
   "file_extension": ".py",
   "mimetype": "text/x-python",
   "name": "python",
   "nbconvert_exporter": "python",
   "pygments_lexer": "ipython3",
   "version": "3.10.13"
  }
 },
 "nbformat": 4,
 "nbformat_minor": 5
}
