{
 "cells": [
  {
   "cell_type": "markdown",
   "id": "f0600349-94d2-48d0-b173-1f662031d9b3",
   "metadata": {},
   "source": [
    "# Part II: Data Preprocessing\n",
    "\n",
    "This tutorial is based on the [TensorFlow Image Classification](https://www.tensorflow.org/tutorials/images/classification) with some modifications, which shows how to classify images of fingerprints using a tf.keras.Sequential model and load data using tf.keras.utils.image_dataset_from_directory. \n",
    "\n",
    "This tutorial follows a basic machine learning workflow:\n",
    "\n",
    "1. Examine and understand data\n",
    "1. Build an input pipeline\n",
    "1. Build the model\n",
    "1. Train the model\n",
    "1. Test the model\n",
    "1. Improve the model and repeat the process\n",
    "\n",
    "The workflow above spans multiple notebooks\n",
    "1. data exploration\n",
    "1. data preprocessing \n",
    "1. model training\n",
    "1. model tuning"
   ]
  },
  {
   "cell_type": "markdown",
   "id": "7dc12709-1574-4a02-82ff-c5f5079225da",
   "metadata": {},
   "source": [
    "# Setup"
   ]
  },
  {
   "cell_type": "code",
   "execution_count": 1,
   "id": "874024fc-8bde-439a-ae49-4995552b64f4",
   "metadata": {
    "tags": []
   },
   "outputs": [],
   "source": [
    "import os\n",
    "import cv2\n",
    "import numpy as np\n",
    "import matplotlib.pyplot as plt\n",
    "\n",
    "from IPython.display import clear_output"
   ]
  },
  {
   "cell_type": "code",
   "execution_count": 2,
   "id": "75b6267f-1cca-480f-9672-d386262a6b4f",
   "metadata": {
    "tags": []
   },
   "outputs": [
    {
     "name": "stdout",
     "output_type": "stream",
     "text": [
      "env: SCRATCH=../scratch\n"
     ]
    }
   ],
   "source": [
    "# scratch directory is apart of the .gitignore to ensure it is not committed to git\n",
    "%env SCRATCH=../scratch\n",
    "! [ -e \"${SCRATCH}\" ] || mkdir -p \"${SCRATCH}\"\n",
    "\n",
    "scratch_path = os.environ.get('SCRATCH', './scratch')"
   ]
  },
  {
   "cell_type": "markdown",
   "id": "bb45738d-708b-4b1a-ba90-4deb9ac69aa2",
   "metadata": {},
   "source": [
    "# Resize and crop the images \n",
    "\n",
    "It is a best practice not to save over the raw data you have, so we will write these changes to a new directory:\n",
    "1. resize all the images to 96, 96\n",
    "1. crop the border\n",
    "1. because the images will be smaller and we want to maintain the 96x96 input, resize them back"
   ]
  },
  {
   "cell_type": "code",
   "execution_count": 3,
   "id": "ae8865cd-90c6-4a47-976b-9161749c0d5d",
   "metadata": {
    "tags": []
   },
   "outputs": [],
   "source": [
    "input_directory = scratch_path + \"/train\"  # Replace with the path to your input directory\n",
    "output_directory = scratch_path + \"/processed/hand\"  # Replace with the path to your output directory"
   ]
  },
  {
   "cell_type": "markdown",
   "id": "dc69e793-b2d8-42c5-9524-fb32176c0616",
   "metadata": {},
   "source": [
    "## Define the processing function"
   ]
  },
  {
   "cell_type": "code",
   "execution_count": 4,
   "id": "092ffd9c-6ff6-4724-b15e-2f6d620884b2",
   "metadata": {
    "tags": []
   },
   "outputs": [
    {
     "name": "stdout",
     "output_type": "stream",
     "text": [
      "Overwriting ../src/process_images.py\n"
     ]
    }
   ],
   "source": [
    "%%writefile ../src/process_images.py\n",
    "\n",
    "import os\n",
    "import cv2\n",
    "\n",
    "CROP_TOP = 10\n",
    "CROP_BOT = 96-15\n",
    "CROP_L = 5\n",
    "CROP_R = 96-6\n",
    "\n",
    "def process_images_in_directory(input_directory, output_directory):\n",
    "    # Create the output directory if it doesn't exist\n",
    "    os.makedirs(output_directory, exist_ok=True)\n",
    "\n",
    "    for filename in os.listdir(input_directory):\n",
    "        file_path = os.path.join(input_directory, filename)\n",
    "\n",
    "        if os.path.isdir(file_path):\n",
    "            # If it's a subdirectory, recursively process its contents\n",
    "            subdirectory_output = os.path.join(output_directory, filename)\n",
    "            process_images_in_directory(file_path, subdirectory_output)\n",
    "        elif filename.endswith(\".png\"):  # You can adjust the file extension as needed\n",
    "            # Read the image using OpenCV\n",
    "            image = cv2.imread(file_path)\n",
    "\n",
    "            if image is not None:\n",
    "                # Resize the image to 96x96\n",
    "                resized_image = cv2.resize(image, (96, 96))\n",
    "\n",
    "                # Crop the image to [5:95, 5:91]\n",
    "                cropped_image = resized_image[CROP_TOP:CROP_BOT, CROP_L:CROP_R]\n",
    "                \n",
    "                #resized_image = cv2.resize(cropped_image, (96, 96))\n",
    "\n",
    "                # Save the cropped and resized image to the output directory\n",
    "                output_path = os.path.join(output_directory, filename)\n",
    "                cv2.imwrite(output_path, cropped_image)\n",
    "\n",
    "                print(f\"Processed and saved {filename} to {output_path}\")\n",
    "            else:\n",
    "                print(f\"Skipping {filename}: Unable to read the image\")\n",
    "\n",
    "# Example usage:\n",
    "# Replace \"input_root_directory\" and \"output_root_directory\" with your root input and output directory paths\n",
    "# process_images_in_directory(\"input_root_directory\", \"output_root_directory\")"
   ]
  },
  {
   "cell_type": "markdown",
   "id": "86ffa1f7-bb35-4da9-87c2-952ee447136a",
   "metadata": {},
   "source": [
    "## Run the function"
   ]
  },
  {
   "cell_type": "code",
   "execution_count": 5,
   "id": "1f57e3cd-7978-4c71-8e7f-6c723916ee44",
   "metadata": {
    "tags": []
   },
   "outputs": [],
   "source": [
    "%run ../src/process_images.py"
   ]
  },
  {
   "cell_type": "code",
   "execution_count": 6,
   "id": "37c396dc-aad3-460b-b0c6-bc2dfb7fab7e",
   "metadata": {
    "tags": []
   },
   "outputs": [],
   "source": [
    "process_images_in_directory(input_directory, output_directory)\n",
    "\n",
    "clear_output()"
   ]
  },
  {
   "cell_type": "markdown",
   "id": "ca79dcd0-fbda-47bd-9cd3-28cc23a328cb",
   "metadata": {},
   "source": [
    "## Display a sample"
   ]
  },
  {
   "cell_type": "code",
   "execution_count": 7,
   "id": "d5c85b45-0060-4b39-afb1-0998fb439e3c",
   "metadata": {
    "tags": []
   },
   "outputs": [],
   "source": [
    "# convert opencv BGR to RGB ordering\n",
    "def plt_imshow(title, image):\n",
    "\t# convert the image frame BGR to RGB color space and display it\n",
    "\timage = cv2.cvtColor(image, cv2.COLOR_BGR2RGB)\n",
    "\tplt.imshow(image)\n",
    "\tplt.title(title)\n",
    "\tplt.grid(False)\n",
    "\tplt.show()"
   ]
  },
  {
   "cell_type": "code",
   "execution_count": 8,
   "id": "4b0bbf60-ae75-4e9f-aeaf-59d99436a908",
   "metadata": {
    "tags": []
   },
   "outputs": [
    {
     "data": {
      "image/png": "[encoded data removed]",
      "text/plain": [
       "<Figure size 640x480 with 1 Axes>"
      ]
     },
     "metadata": {},
     "output_type": "display_data"
    }
   ],
   "source": [
    "image = cv2.imread(scratch_path + '/processed/hand/left/1__M_Left_index_finger_CR.png')\n",
    "\n",
    "plt_imshow(\"Processed\", image)"
   ]
  },
  {
   "cell_type": "code",
   "execution_count": null,
   "id": "17f45de2-0cc2-4066-bb86-2fdcbf82b1b7",
   "metadata": {},
   "outputs": [],
   "source": []
  }
 ],
 "metadata": {
  "kernelspec": {
   "display_name": "conda_python3",
   "language": "python",
   "name": "conda_python3"
  },
  "language_info": {
   "codemirror_mode": {
    "name": "ipython",
    "version": 3
   },
   "file_extension": ".py",
   "mimetype": "text/x-python",
   "name": "python",
   "nbconvert_exporter": "python",
   "pygments_lexer": "ipython3",
   "version": "3.10.13"
  }
 },
 "nbformat": 4,
 "nbformat_minor": 5
}
