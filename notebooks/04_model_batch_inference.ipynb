{
 "cells": [
  {
   "cell_type": "markdown",
   "id": "dffb180f-c027-4c0f-a55a-a297e62730d2",
   "metadata": {},
   "source": [
    "# Part III: Simulate batch / offline inferencing against a directory of data\n",
    "\n",
    "Now that we have two models (a trained one and a tuned one), we can \n",
    "simulate an offline batch inference against 50 random images in our processed/real data and compare the output. This may help us eye ball the output in bulk to see the different in model perfomance."
   ]
  },
  {
   "cell_type": "code",
   "execution_count": null,
   "id": "f2f169b3-7475-4d7e-95f3-fdb9f83307e0",
   "metadata": {
    "tags": []
   },
   "outputs": [],
   "source": [
    "import os\n",
    "\n",
    "%env SCRATCH=../scratch\n",
    "! [ -e \"${SCRATCH}\" ] || mkdir -p \"${SCRATCH}\"\n",
    "\n",
    "scratch_path = os.environ.get('SCRATCH', './scratch')"
   ]
  },
  {
   "cell_type": "code",
   "execution_count": null,
   "id": "d414a9e2-1ed9-4eb8-94a5-17633e5553c8",
   "metadata": {
    "tags": []
   },
   "outputs": [],
   "source": [
    "%%writefile ../src/batch_inference_images.py\n",
    "\n",
    "import os\n",
    "import tensorflow as tf\n",
    "import keras\n",
    "import numpy as np\n",
    "import pandas as pd\n",
    "\n",
    "def predict_images(model_version, image_count):\n",
    "    # Set scratch directory\n",
    "    scratch_path = os.environ.get('SCRATCH', './scratch')\n",
    "    \n",
    "    # Load the model\n",
    "    model_path = scratch_path + \"/models/hand/\" + model_version + \"/model.savedmodel\"\n",
    "    model = keras.models.load_model(model_path)\n",
    "\n",
    "    # Directory containing the images for prediction\n",
    "    samples_path = scratch_path + '/processed/real'  # Replace with your image directory path\n",
    "\n",
    "    # List of image file names\n",
    "    image_files = os.listdir(samples_path)\n",
    "\n",
    "    # Select 50 random images (or you can select all if less than 50)\n",
    "    selected_images = image_files[:image_count] if len(image_files) > image_count else image_files\n",
    "\n",
    "    # List to store predictions\n",
    "    predictions = []\n",
    "\n",
    "    # Iterate through each selected image\n",
    "    for image_file in selected_images:\n",
    "        img_path = os.path.join(samples_path, image_file)\n",
    "\n",
    "        # Load image using tf.keras.utils.load_img\n",
    "        img = tf.keras.utils.load_img(\n",
    "            img_path,\n",
    "            color_mode=\"grayscale\",\n",
    "            target_size=(96, 96),\n",
    "            # interpolation='nearest',  # You can uncomment and adjust this option if needed\n",
    "        )\n",
    "\n",
    "        # Convert PIL image to numpy array\n",
    "        img_array = tf.keras.utils.img_to_array(img)\n",
    "        img_array = np.expand_dims(img_array, axis=0)  # Add batch dimension\n",
    "\n",
    "        # Perform predictions using your model\n",
    "        predictions_arr = model.predict(img_array)\n",
    "        score = tf.nn.softmax(predictions_arr[0])\n",
    "\n",
    "        # Define your class mapping\n",
    "        class_mapping = {0: 'left', 1: 'right'}  # Update this mapping based on your classes\n",
    "        predicted_label = class_mapping[np.argmax(score)]\n",
    "        confidence = 100 * np.max(score)\n",
    "\n",
    "        # Check if the predicted label is in the image file name\n",
    "        is_label_in_image_name = predicted_label.lower() in image_file.lower()\n",
    "\n",
    "        # Append the prediction details to the list\n",
    "        predictions.append({\n",
    "            'Image': image_file,\n",
    "            'Predicted_Label': predicted_label,\n",
    "            'Confidence': confidence,\n",
    "            'Is_Label_In_Image_Name': is_label_in_image_name\n",
    "\n",
    "        })\n",
    "\n",
    "        print(f\"This image {image_file} is predicted as {predicted_label} with a {confidence:.2f}% confidence.\")\n",
    "\n",
    "    # Perform any further processing with the predictions list (e.g., save to CSV)\n",
    "    # Convert predictions to a DataFrame or save as needed\n",
    "\n",
    "\n",
    "    # Convert predictions to a DataFrame\n",
    "    predictions_df = pd.DataFrame(predictions)\n",
    "\n",
    "    # Save predictions to a CSV file with the model version in the filename\n",
    "    filename = f\"{scratch_path}/model_v{model_version}_predictions.csv\"\n",
    "    predictions_df.to_csv(filename, index=False)\n",
    "    print(f\"Predictions saved to {filename}\")"
   ]
  },
  {
   "cell_type": "code",
   "execution_count": null,
   "id": "e8b5a951-0132-4860-af2e-6e4e5b2bfe0a",
   "metadata": {
    "tags": []
   },
   "outputs": [],
   "source": [
    "# load the function in the notebook\n",
    "%run ../src/batch_inference_images.py"
   ]
  },
  {
   "cell_type": "code",
   "execution_count": null,
   "id": "ce508b52-7156-4923-99d2-961feced0220",
   "metadata": {
    "tags": []
   },
   "outputs": [],
   "source": [
    "# Call the function with the desired model version and number of images to inference against\n",
    "predict_images(\"1\", 50)  # Replace with your model version and number of images (there are 6000 and that can take a while.)"
   ]
  },
  {
   "cell_type": "code",
   "execution_count": null,
   "id": "e683b42b-fd29-4b9f-98ce-767c08dede2a",
   "metadata": {
    "tags": []
   },
   "outputs": [],
   "source": [
    "# Call the function with the desired model version and number of images to inference against\n",
    "predict_images(\"2\", 50)  # Replace with your model version and number of images (there are 6000 and that can take a while.)"
   ]
  },
  {
   "cell_type": "code",
   "execution_count": null,
   "id": "71363226-6c79-43d4-9722-2e804f53fd41",
   "metadata": {},
   "outputs": [],
   "source": []
  }
 ],
 "metadata": {
  "kernelspec": {
   "display_name": "conda_python3",
   "language": "python",
   "name": "conda_python3"
  },
  "language_info": {
   "codemirror_mode": {
    "name": "ipython",
    "version": 3
   },
   "file_extension": ".py",
   "mimetype": "text/x-python",
   "name": "python",
   "nbconvert_exporter": "python",
   "pygments_lexer": "ipython3",
   "version": "3.10.13"
  }
 },
 "nbformat": 4,
 "nbformat_minor": 5
}
